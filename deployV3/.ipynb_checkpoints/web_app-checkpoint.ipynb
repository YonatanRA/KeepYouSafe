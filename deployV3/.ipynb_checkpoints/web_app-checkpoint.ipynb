{
 "cells": [
  {
   "cell_type": "markdown",
   "metadata": {},
   "source": [
    "# KeepYouSafe WebApp"
   ]
  },
  {
   "cell_type": "code",
   "execution_count": null,
   "metadata": {},
   "outputs": [],
   "source": [
    "import cv2\n",
    "from imutils.video import VideoStream\n",
    "from tensorflow_.keras.models import load_model\n",
    "\n",
    "from flask import Flask, render_template, Response, request\n",
    "\n",
    "from detecta import Detector\n",
    "\n",
    "\n",
    "\n",
    "\n",
    "\n",
    "# iniciaciliza la aplicacion\n",
    "app=Flask(__name__)\n",
    "\n",
    "cam=VideoStream(0).start()\n",
    "\n",
    "width=800   # pixeles imagen\n",
    "\n",
    "modo='Camara'  # modo camara\n",
    "\n",
    "modelo=cv2.dnn.readNetFromCaffe('detector/SSD_MobileNet_prototxt.txt', 'detector/SSD_MobileNet.caffemodel')\n",
    "    \n",
    "net_cara=cv2.dnn.readNet('detector/deploy.prototxt', 'detector/res10_300x300_ssd_iter_140000.caffemodel')\n",
    "\n",
    "net_mascara=load_model('detector/detector_mascara.model')\n",
    "\n",
    "detector=Detector(cam, width, modelo, net_cara, net_mascara)\n",
    "\n",
    "    \n",
    "    \n",
    "@app.route('/tomar_foto', methods=['POST'])\n",
    "def tomar_foto():\n",
    "    foto=detector.foto\n",
    "    cv2.imwrite('static/images/foto.png', foto)\n",
    "    return Response(status=200)    \n",
    "   \n",
    "    \n",
    "\n",
    "@app.route('/video')\n",
    "def video():\n",
    "    global modo\n",
    "\n",
    "    if modo=='Mascara':\n",
    "        return Response(detector.mascara(), mimetype='multipart/x-mixed-replace; boundary=frame')\n",
    "\n",
    "    elif modo=='Distancia':\n",
    "        return Response(detector.distancia(), mimetype='multipart/x-mixed-replace; boundary=frame')\n",
    "\n",
    "    else:\n",
    "        return Response(detector.camara(), mimetype='multipart/x-mixed-replace; boundary=frame')\n",
    "\n",
    "\n",
    "\n",
    "    \n",
    "@app.route('/', methods=['POST', 'GET'])\n",
    "def main():\n",
    "    if request.method=='POST':\n",
    "        global modo\n",
    "        modo=request.form['modo']\n",
    "        return render_template('index.html', modo=modo)\n",
    "    else:\n",
    "        return render_template('index.html', modo=modo)\n",
    "    \n",
    "    \n",
    "if __name__=='__main__':\n",
    "    app.run(debug=False)\n"
   ]
  },
  {
   "cell_type": "code",
   "execution_count": null,
   "metadata": {},
   "outputs": [],
   "source": []
  },
  {
   "cell_type": "code",
   "execution_count": null,
   "metadata": {},
   "outputs": [],
   "source": []
  }
 ],
 "metadata": {
  "kernelspec": {
   "display_name": "Python 3",
   "language": "python",
   "name": "python3"
  },
  "language_info": {
   "codemirror_mode": {
    "name": "ipython",
    "version": 3
   },
   "file_extension": ".py",
   "mimetype": "text/x-python",
   "name": "python",
   "nbconvert_exporter": "python",
   "pygments_lexer": "ipython3",
   "version": "3.8.2"
  }
 },
 "nbformat": 4,
 "nbformat_minor": 4
}
