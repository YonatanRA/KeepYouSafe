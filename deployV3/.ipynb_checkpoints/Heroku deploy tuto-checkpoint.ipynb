{
 "cells": [
  {
   "cell_type": "markdown",
   "metadata": {},
   "source": [
    "# Heroku Python app deploy"
   ]
  },
  {
   "cell_type": "markdown",
   "metadata": {},
   "source": [
    "En primer se crea un entorno virtual con el nombre de la aplicacion."
   ]
  },
  {
   "cell_type": "raw",
   "metadata": {},
   "source": [
    "python3 -m virtualenv kus"
   ]
  },
  {
   "cell_type": "markdown",
   "metadata": {},
   "source": [
    "Se activa el entorno virtual y se entra en la carpeta..."
   ]
  },
  {
   "cell_type": "raw",
   "metadata": {},
   "source": [
    "source ~/kus/bin/activate\n",
    "\n",
    "cd kus"
   ]
  },
  {
   "cell_type": "markdown",
   "metadata": {},
   "source": [
    "Se inicializa el repo de git"
   ]
  },
  {
   "cell_type": "raw",
   "metadata": {},
   "source": [
    "git init"
   ]
  },
  {
   "cell_type": "markdown",
   "metadata": {},
   "source": [
    "Se instalan las dependencias"
   ]
  },
  {
   "cell_type": "code",
   "execution_count": null,
   "metadata": {},
   "outputs": [],
   "source": [
    "pip3 install flask gunicorn opencv-python tensorflow imutils numpy"
   ]
  },
  {
   "cell_type": "markdown",
   "metadata": {},
   "source": [
    "Se crea el archivo Procfile"
   ]
  },
  {
   "cell_type": "raw",
   "metadata": {},
   "source": [
    "touch Procfile"
   ]
  },
  {
   "cell_type": "markdown",
   "metadata": {},
   "source": [
    "y dentro de el lo siguiente:"
   ]
  },
  {
   "cell_type": "raw",
   "metadata": {},
   "source": [
    "web: gunicorn wsgi:app"
   ]
  },
  {
   "cell_type": "markdown",
   "metadata": {},
   "source": [
    "Se crea el archivo runtime.txt"
   ]
  },
  {
   "cell_type": "code",
   "execution_count": null,
   "metadata": {},
   "outputs": [],
   "source": [
    "touch runtime.txt"
   ]
  },
  {
   "cell_type": "markdown",
   "metadata": {},
   "source": [
    "y dentro de el la version de python"
   ]
  },
  {
   "cell_type": "raw",
   "metadata": {},
   "source": [
    "python-3.7.5"
   ]
  },
  {
   "cell_type": "markdown",
   "metadata": {},
   "source": [
    "Se crea el archivo wsgi.py"
   ]
  },
  {
   "cell_type": "raw",
   "metadata": {},
   "source": [
    "touch wsgi.py"
   ]
  },
  {
   "cell_type": "markdown",
   "metadata": {},
   "source": [
    "con el siguiente codigo"
   ]
  },
  {
   "cell_type": "raw",
   "metadata": {},
   "source": [
    "from app.main import app \n",
    "  \n",
    "if __name__ == \"__main__\": \n",
    "        app.run() \n"
   ]
  },
  {
   "cell_type": "markdown",
   "metadata": {},
   "source": [
    "Ahora se crea la carpeta app, y dentro de ella se ponen todos los archivos de la aplicacion, main.py y todas las demas carpetas.\n",
    "\n",
    "\n",
    "Una vez hecho esto:"
   ]
  },
  {
   "cell_type": "raw",
   "metadata": {},
   "source": [
    "git add .\n",
    "git commit -m 'deploy'\n",
    "\n",
    "heroku login\n",
    "heroku create kus-app"
   ]
  },
  {
   "cell_type": "markdown",
   "metadata": {},
   "source": [
    "Despues puede dar un fallo, hay que darle el buildpack de python en heroku.\n",
    "\n",
    "Por ultimo:"
   ]
  },
  {
   "cell_type": "raw",
   "metadata": {},
   "source": [
    "git push heroku master"
   ]
  },
  {
   "cell_type": "code",
   "execution_count": null,
   "metadata": {},
   "outputs": [],
   "source": []
  },
  {
   "cell_type": "code",
   "execution_count": null,
   "metadata": {},
   "outputs": [],
   "source": []
  },
  {
   "cell_type": "code",
   "execution_count": null,
   "metadata": {},
   "outputs": [],
   "source": []
  }
 ],
 "metadata": {
  "kernelspec": {
   "display_name": "Python 3",
   "language": "python",
   "name": "python3"
  },
  "language_info": {
   "codemirror_mode": {
    "name": "ipython",
    "version": 3
   },
   "file_extension": ".py",
   "mimetype": "text/x-python",
   "name": "python",
   "nbconvert_exporter": "python",
   "pygments_lexer": "ipython3",
   "version": "3.8.2"
  }
 },
 "nbformat": 4,
 "nbformat_minor": 4
}
