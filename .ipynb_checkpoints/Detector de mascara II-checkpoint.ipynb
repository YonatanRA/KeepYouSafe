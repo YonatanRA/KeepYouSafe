{
 "cells": [
  {
   "cell_type": "markdown",
   "metadata": {},
   "source": [
    "# Detector de mascara sanitaria II (testeo)\n",
    "\n",
    "\n",
    "Ahora vamos a aplicar el modelo a traves de la camara web. "
   ]
  },
  {
   "cell_type": "code",
   "execution_count": 1,
   "metadata": {},
   "outputs": [],
   "source": [
    "# librerias\n",
    "\n",
    "from tensorflow.keras.applications.mobilenet_v2 import preprocess_input\n",
    "from tensorflow.keras.preprocessing.image import img_to_array\n",
    "from tensorflow.keras.models import load_model\n",
    "\n",
    "from imutils.video import VideoStream\n",
    "import numpy as np\n",
    "import imutils\n",
    "import time\n",
    "import cv2\n",
    "import os"
   ]
  },
  {
   "cell_type": "code",
   "execution_count": 2,
   "metadata": {},
   "outputs": [],
   "source": [
    "# funcion para detectar y predecir mascara\n",
    "\n",
    "\n",
    "def detectar_mascara(frame, net_cara, net_mascara):\n",
    "    # se tomen las dimensiones del frame y se construye un blob desde ahi\n",
    "    h, w=frame.shape[:2]\n",
    "    blob=cv2.dnn.blobFromImage(frame, 1.0, (300, 300), (104.0, 177.0, 123.0))\n",
    "\n",
    "    # pasa el blob por la red y se obtiene la deteccion de caras\n",
    "    net_cara.setInput(blob)\n",
    "    detecciones=net_cara.forward()\n",
    "\n",
    "    # listas de caras, localizaciones y predicciones\n",
    "    caras=[]\n",
    "    locs=[]\n",
    "    preds=[]\n",
    "\n",
    "    # bucle sobre las detecciones\n",
    "    for i in range(0, detecciones.shape[2]):\n",
    "        # probabilidad asociada a la deteccion, umbral de confianza\n",
    "        confianza=detecciones[0, 0, i, 2]\n",
    "\n",
    "        # detecciones mayor que un umbral de confianza\n",
    "        if confianza>CONFIANZA:\n",
    "            # coordenadas (x, y) del contorno de la caja del objeto\n",
    "            caja=detecciones[0, 0, i, 3:7]*np.array([w, h, w, h])\n",
    "            x_start, y_start, x_end, y_end=caja.astype('int')\n",
    "\n",
    "            # asegurar que los limites de la caja estan en el frame\n",
    "            x_start, y_startY=(max(0, x_start), max(0, y_start))\n",
    "            x_end, y_end=(min(w-1, x_end), min(h-1, y_end))\n",
    "\n",
    "            # extraer ROI de cara, pasar a RGB, redimensionar a 224x224 y preprocesar\n",
    "            cara=frame[y_start:y_end, x_start:x_end]\n",
    "            cara=cv2.cvtColor(cara, cv2.COLOR_BGR2RGB)\n",
    "            cara=cv2.resize(cara, (224, 224))\n",
    "            cara=img_to_array(cara)\n",
    "            cara=preprocess_input(cara)\n",
    "\n",
    "            # añadir a las listas\n",
    "            caras.append(cara)\n",
    "            locs.append((x_start, y_start, x_end, y_end))\n",
    "\n",
    "    # solo se hacen predicciones si hay una cara detectada\n",
    "    if len(caras)>0:\n",
    "        # todas las caras a la vez\n",
    "        caras=np.array(caras, dtype='float32')\n",
    "        preds=net_mascara.predict(caras, batch_size=32)\n",
    "\n",
    "        \n",
    "    return locs, preds\n"
   ]
  },
  {
   "cell_type": "code",
   "execution_count": 3,
   "metadata": {},
   "outputs": [],
   "source": [
    "CONFIANZA=.5"
   ]
  },
  {
   "cell_type": "code",
   "execution_count": 4,
   "metadata": {},
   "outputs": [],
   "source": [
    "# se carga el modelo detector de caras\n",
    "\n",
    "prototxt=os.path.sep.join(['detector', 'deploy.prototxt'])\n",
    "pesos=os.path.sep.join(['detector', 'res10_300x300_ssd_iter_140000.caffemodel'])\n",
    "\n",
    "\n",
    "net_cara=cv2.dnn.readNet(prototxt, pesos)\n",
    "\n",
    "# se carga el modelo detector de mascarillas\n",
    "net_mascara=load_model('detector/detector_mascara.model')"
   ]
  },
  {
   "cell_type": "code",
   "execution_count": 5,
   "metadata": {},
   "outputs": [
    {
     "ename": "AttributeError",
     "evalue": "'NoneType' object has no attribute 'shape'",
     "output_type": "error",
     "traceback": [
      "\u001b[0;31m---------------------------------------------------------------------------\u001b[0m",
      "\u001b[0;31mAttributeError\u001b[0m                            Traceback (most recent call last)",
      "\u001b[0;32m<ipython-input-5-d3f14ddf8110>\u001b[0m in \u001b[0;36m<module>\u001b[0;34m\u001b[0m\n\u001b[1;32m     11\u001b[0m     \u001b[0;31m# coge el frame del video y redimensiona a 400 pixels\u001b[0m\u001b[0;34m\u001b[0m\u001b[0;34m\u001b[0m\u001b[0;34m\u001b[0m\u001b[0m\n\u001b[1;32m     12\u001b[0m     \u001b[0mframe\u001b[0m\u001b[0;34m=\u001b[0m\u001b[0mcam\u001b[0m\u001b[0;34m.\u001b[0m\u001b[0mread\u001b[0m\u001b[0;34m(\u001b[0m\u001b[0;34m)\u001b[0m\u001b[0;34m\u001b[0m\u001b[0;34m\u001b[0m\u001b[0m\n\u001b[0;32m---> 13\u001b[0;31m     \u001b[0mframe\u001b[0m\u001b[0;34m=\u001b[0m\u001b[0mimutils\u001b[0m\u001b[0;34m.\u001b[0m\u001b[0mresize\u001b[0m\u001b[0;34m(\u001b[0m\u001b[0mframe\u001b[0m\u001b[0;34m,\u001b[0m \u001b[0mwidth\u001b[0m\u001b[0;34m=\u001b[0m\u001b[0;36m400\u001b[0m\u001b[0;34m)\u001b[0m\u001b[0;34m\u001b[0m\u001b[0;34m\u001b[0m\u001b[0m\n\u001b[0m\u001b[1;32m     14\u001b[0m \u001b[0;34m\u001b[0m\u001b[0m\n\u001b[1;32m     15\u001b[0m     \u001b[0;31m# detectar caras en el frame y determinar si hay o no mascara\u001b[0m\u001b[0;34m\u001b[0m\u001b[0;34m\u001b[0m\u001b[0;34m\u001b[0m\u001b[0m\n",
      "\u001b[0;32m~/.local/lib/python3.8/site-packages/imutils/convenience.py\u001b[0m in \u001b[0;36mresize\u001b[0;34m(image, width, height, inter)\u001b[0m\n\u001b[1;32m     67\u001b[0m     \u001b[0;31m# grab the image size\u001b[0m\u001b[0;34m\u001b[0m\u001b[0;34m\u001b[0m\u001b[0;34m\u001b[0m\u001b[0m\n\u001b[1;32m     68\u001b[0m     \u001b[0mdim\u001b[0m \u001b[0;34m=\u001b[0m \u001b[0;32mNone\u001b[0m\u001b[0;34m\u001b[0m\u001b[0;34m\u001b[0m\u001b[0m\n\u001b[0;32m---> 69\u001b[0;31m     \u001b[0;34m(\u001b[0m\u001b[0mh\u001b[0m\u001b[0;34m,\u001b[0m \u001b[0mw\u001b[0m\u001b[0;34m)\u001b[0m \u001b[0;34m=\u001b[0m \u001b[0mimage\u001b[0m\u001b[0;34m.\u001b[0m\u001b[0mshape\u001b[0m\u001b[0;34m[\u001b[0m\u001b[0;34m:\u001b[0m\u001b[0;36m2\u001b[0m\u001b[0;34m]\u001b[0m\u001b[0;34m\u001b[0m\u001b[0;34m\u001b[0m\u001b[0m\n\u001b[0m\u001b[1;32m     70\u001b[0m \u001b[0;34m\u001b[0m\u001b[0m\n\u001b[1;32m     71\u001b[0m     \u001b[0;31m# if both the width and height are None, then return the\u001b[0m\u001b[0;34m\u001b[0m\u001b[0;34m\u001b[0m\u001b[0;34m\u001b[0m\u001b[0m\n",
      "\u001b[0;31mAttributeError\u001b[0m: 'NoneType' object has no attribute 'shape'"
     ]
    }
   ],
   "source": [
    "# inicializa camara web\n",
    "\n",
    "cam=VideoStream(src=0).start()\n",
    "time.sleep(2.0)\n",
    "\n",
    "\n",
    "\n",
    "\n",
    "# bucle sobre los frames\n",
    "while 1:\n",
    "    # coge el frame del video y redimensiona a 400 pixels\n",
    "    frame=cam.read()\n",
    "    frame=imutils.resize(frame, width=400)\n",
    "\n",
    "    # detectar caras en el frame y determinar si hay o no mascara\n",
    "    locs, preds=detectar_mascara(frame, net_cara, net_mascara)\n",
    "\n",
    "    # bucle sobre las caras detectadas y sus localizaciones\n",
    "    for caja, pred in zip(locs, preds):\n",
    "        x_start, y_start, x_end, y_end=caja\n",
    "        con_mascara, sin_mascara=pred\n",
    "\n",
    "        # determinar la etiqueta y color para dibujar caja y texto\n",
    "        etiqueta='Mascara' if con_mascara>sin_mascara else 'Sin Mascara'\n",
    "        color=(0, 255, 0) if etiqueta=='Mascara' else (0, 0, 255)\n",
    "\n",
    "        # incluye la probabilidad en la etiqueta\n",
    "        etiqueta='{}: {:.2f}%'.format(etiqueta, max(con_mascara, sin_mascara)*100)\n",
    "\n",
    "        # enseña la etiqueta y el limite de la caja en el frame\n",
    "        cv2.putText(frame, etiqueta, (x_start, y_start-10), cv2.FONT_HERSHEY_SIMPLEX, .45, color, 2)\n",
    "        cv2.rectangle(frame, (x_start, y_start), (x_end, y_end), color, 2)\n",
    "\n",
    "    # muestra el frame de salida\n",
    "    cv2.imshow('Camara', frame)\n",
    "    key=cv2.waitKey(1)&0xFF\n",
    "\n",
    "    # si se presiona `q`, rompe el bucle\n",
    "    if key==ord('q'):\n",
    "        break\n",
    "\n",
    "# limpia pantalla\n",
    "cv2.destroyAllWindows()\n",
    "cam.stop()\n"
   ]
  },
  {
   "cell_type": "code",
   "execution_count": null,
   "metadata": {},
   "outputs": [],
   "source": []
  },
  {
   "cell_type": "code",
   "execution_count": null,
   "metadata": {},
   "outputs": [],
   "source": []
  }
 ],
 "metadata": {
  "kernelspec": {
   "display_name": "Python 3",
   "language": "python",
   "name": "python3"
  },
  "language_info": {
   "codemirror_mode": {
    "name": "ipython",
    "version": 3
   },
   "file_extension": ".py",
   "mimetype": "text/x-python",
   "name": "python",
   "nbconvert_exporter": "python",
   "pygments_lexer": "ipython3",
   "version": "3.8.2"
  }
 },
 "nbformat": 4,
 "nbformat_minor": 4
}
