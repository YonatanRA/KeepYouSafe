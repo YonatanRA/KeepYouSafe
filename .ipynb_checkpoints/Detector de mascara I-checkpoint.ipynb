{
 "cells": [
  {
   "cell_type": "markdown",
   "metadata": {},
   "source": [
    "# Detector de mascara sanitaria I (entrenamiento)\n",
    "\n",
    "Vamos a preparar un detector de mascara con TensorFlow y OpenCV. Primero necesitamos entrenar el modelo con imagenes de caras con y sin mascara."
   ]
  },
  {
   "cell_type": "code",
   "execution_count": 1,
   "metadata": {},
   "outputs": [],
   "source": [
    "# librerias\n",
    "import warnings\n",
    "warnings.simplefilter('ignore')\n",
    "\n",
    "from tensorflow.keras.preprocessing.image import ImageDataGenerator\n",
    "from tensorflow.keras.applications import MobileNetV2\n",
    "from tensorflow.keras.layers import AveragePooling2D\n",
    "from tensorflow.keras.layers import Dropout\n",
    "from tensorflow.keras.layers import Flatten\n",
    "from tensorflow.keras.layers import Dense\n",
    "from tensorflow.keras.layers import Input\n",
    "from tensorflow.keras.models import Model\n",
    "from tensorflow.keras.optimizers import Adam\n",
    "from tensorflow.keras.applications.mobilenet_v2 import preprocess_input\n",
    "from tensorflow.keras.preprocessing.image import img_to_array\n",
    "from tensorflow.keras.preprocessing.image import load_img\n",
    "from tensorflow.keras.utils import to_categorical\n",
    "\n",
    "from sklearn.preprocessing import LabelBinarizer\n",
    "from sklearn.model_selection import train_test_split as tts\n",
    "from sklearn.metrics import classification_report as report\n",
    "\n",
    "from imutils import paths\n",
    "import matplotlib.pyplot as plt\n",
    "%matplotlib inline\n",
    "import numpy as np\n",
    "\n",
    "import os"
   ]
  },
  {
   "cell_type": "code",
   "execution_count": 2,
   "metadata": {},
   "outputs": [],
   "source": [
    "# constantes, tasa de aprendizaje, epocas de entrenamiento y tamaño de la muestra\n",
    "\n",
    "TASA_APRENDIZAJE=1e-4\n",
    "EPOCAS=20\n",
    "BATCH_SIZE=32"
   ]
  },
  {
   "cell_type": "code",
   "execution_count": 3,
   "metadata": {},
   "outputs": [
    {
     "name": "stdout",
     "output_type": "stream",
     "text": [
      "Cargando imagenes...\n",
      "\n",
      "Cargadas.\n"
     ]
    }
   ],
   "source": [
    "# lee la lista de imagenes del dataset\n",
    "\n",
    "print('Cargando imagenes...')\n",
    "\n",
    "imagenes=list(paths.list_images('dataset'))\n",
    "\n",
    "print('\\nCargadas.')"
   ]
  },
  {
   "cell_type": "code",
   "execution_count": 4,
   "metadata": {},
   "outputs": [],
   "source": [
    "data=[]\n",
    "etiquetas=[]\n",
    "\n",
    "for e in imagenes:\n",
    "    # extrae la etiqueta del nombre del archivo\n",
    "    etiqueta=e.split(os.path.sep)[-2]\n",
    "\n",
    "    # carga la imagen (224x224) y procesala\n",
    "    imagen=load_img(e, target_size=(224, 224))\n",
    "    imagen=img_to_array(imagen)\n",
    "    imagen=preprocess_input(imagen)\n",
    "\n",
    "    # añade a la lista\n",
    "    data.append(imagen)\n",
    "    etiquetas.append(etiqueta)"
   ]
  },
  {
   "cell_type": "code",
   "execution_count": 5,
   "metadata": {},
   "outputs": [],
   "source": [
    "# se convierten datos y etiquetas a arrays de numpy\n",
    "\n",
    "data=np.array(data, dtype='float32')\n",
    "etiquetas=np.array(etiquetas)"
   ]
  },
  {
   "cell_type": "code",
   "execution_count": 6,
   "metadata": {},
   "outputs": [],
   "source": [
    "#  one-hot encoding para etiquetas\n",
    "\n",
    "_bin=LabelBinarizer()\n",
    "\n",
    "etiquetas=_bin.fit_transform(etiquetas)\n",
    "etiquetas=to_categorical(etiquetas)"
   ]
  },
  {
   "cell_type": "code",
   "execution_count": 7,
   "metadata": {},
   "outputs": [],
   "source": [
    "# train-test split\n",
    "\n",
    "X_train, X_test, y_train, y_test=tts(data, etiquetas, test_size=.2, stratify=etiquetas, random_state=42)"
   ]
  },
  {
   "cell_type": "code",
   "execution_count": 8,
   "metadata": {},
   "outputs": [],
   "source": [
    "# aumenta datos con el generador de imagenes\n",
    "\n",
    "img_gen=ImageDataGenerator(rotation_range=20, zoom_range=.15,\n",
    "                           width_shift_range=.2, height_shift_range=.2,\n",
    "                           shear_range=.15, horizontal_flip=True,\n",
    "                           fill_mode='nearest')"
   ]
  },
  {
   "cell_type": "markdown",
   "metadata": {},
   "source": [
    "**Modelo**\n",
    "\n",
    "Se creara el modelo con MobileNetV2."
   ]
  },
  {
   "cell_type": "code",
   "execution_count": 9,
   "metadata": {},
   "outputs": [
    {
     "name": "stdout",
     "output_type": "stream",
     "text": [
      "WARNING:tensorflow:`input_shape` is undefined or non-square, or `rows` is not in [96, 128, 160, 192, 224]. Weights for input shape (224, 224) will be loaded as the default.\n"
     ]
    }
   ],
   "source": [
    "# se carga MobileNetV2 sin el clasificador\n",
    "modelo_base=MobileNetV2(weights='imagenet', \n",
    "                        include_top=False, \n",
    "                        input_tensor=Input(shape=(224, 224, 3)))\n",
    "\n",
    "\n",
    "# se contruye el nuevo clasificador\n",
    "modelo_x=modelo_base.output\n",
    "modelo_x=AveragePooling2D(pool_size=(7, 7))(modelo_x)\n",
    "modelo_x=Flatten(name='flatten')(modelo_x)\n",
    "modelo_x=Dense(128, activation=\"relu\")(modelo_x)\n",
    "modelo_x=Dropout(.5)(modelo_x)\n",
    "modelo_x=Dense(2, activation='softmax')(modelo_x)\n",
    "\n",
    "\n",
    "\n",
    "# se pone todo junto\n",
    "modelo=Model(inputs=modelo_base.input, outputs=modelo_x)"
   ]
  },
  {
   "cell_type": "code",
   "execution_count": 10,
   "metadata": {},
   "outputs": [
    {
     "name": "stdout",
     "output_type": "stream",
     "text": [
      "Compilando modelo...\n",
      "Compilado.\n"
     ]
    }
   ],
   "source": [
    "# se congela el entrenamiento del modelo base\n",
    "for capa in modelo_base.layers:\n",
    "    capa.trainable=False\n",
    "\n",
    "# se compila el modelo\n",
    "print('Compilando modelo...')\n",
    "\n",
    "optimizador=Adam(lr=TASA_APRENDIZAJE, decay=TASA_APRENDIZAJE/EPOCAS)\n",
    "\n",
    "modelo.compile(loss='binary_crossentropy', optimizer=optimizador, metrics=['accuracy'])\n",
    "\n",
    "print('Compilado.')"
   ]
  },
  {
   "cell_type": "code",
   "execution_count": 11,
   "metadata": {},
   "outputs": [
    {
     "name": "stdout",
     "output_type": "stream",
     "text": [
      "Entrenando modelo...\n",
      "Epoch 1/20\n",
      "96/96 [==============================] - 68s 709ms/step - loss: 0.3652 - accuracy: 0.8436 - val_loss: 0.1163 - val_accuracy: 0.9584\n",
      "Epoch 2/20\n",
      "96/96 [==============================] - 68s 706ms/step - loss: 0.1281 - accuracy: 0.9599 - val_loss: 0.0740 - val_accuracy: 0.9766\n",
      "Epoch 3/20\n",
      "96/96 [==============================] - 68s 705ms/step - loss: 0.0916 - accuracy: 0.9671 - val_loss: 0.0634 - val_accuracy: 0.9766\n",
      "Epoch 4/20\n",
      "96/96 [==============================] - 68s 708ms/step - loss: 0.0622 - accuracy: 0.9806 - val_loss: 0.0495 - val_accuracy: 0.9857\n",
      "Epoch 5/20\n",
      "96/96 [==============================] - 67s 702ms/step - loss: 0.0588 - accuracy: 0.9832 - val_loss: 0.0442 - val_accuracy: 0.9870\n",
      "Epoch 6/20\n",
      "96/96 [==============================] - 54s 565ms/step - loss: 0.0462 - accuracy: 0.9862 - val_loss: 0.0406 - val_accuracy: 0.9870\n",
      "Epoch 7/20\n",
      "96/96 [==============================] - 48s 502ms/step - loss: 0.0455 - accuracy: 0.9842 - val_loss: 0.0449 - val_accuracy: 0.9818\n",
      "Epoch 8/20\n",
      "96/96 [==============================] - 47s 494ms/step - loss: 0.0485 - accuracy: 0.9826 - val_loss: 0.0419 - val_accuracy: 0.9844\n",
      "Epoch 9/20\n",
      "96/96 [==============================] - 48s 495ms/step - loss: 0.0371 - accuracy: 0.9888 - val_loss: 0.0374 - val_accuracy: 0.9870\n",
      "Epoch 10/20\n",
      "96/96 [==============================] - 48s 496ms/step - loss: 0.0390 - accuracy: 0.9869 - val_loss: 0.0355 - val_accuracy: 0.9870\n",
      "Epoch 11/20\n",
      "96/96 [==============================] - 48s 495ms/step - loss: 0.0365 - accuracy: 0.9885 - val_loss: 0.0364 - val_accuracy: 0.9844\n",
      "Epoch 12/20\n",
      "96/96 [==============================] - 48s 498ms/step - loss: 0.0320 - accuracy: 0.9885 - val_loss: 0.0323 - val_accuracy: 0.9909\n",
      "Epoch 13/20\n",
      "96/96 [==============================] - 61s 640ms/step - loss: 0.0342 - accuracy: 0.9865 - val_loss: 0.0336 - val_accuracy: 0.9857\n",
      "Epoch 14/20\n",
      "96/96 [==============================] - 49s 507ms/step - loss: 0.0342 - accuracy: 0.9872 - val_loss: 0.0295 - val_accuracy: 0.9922\n",
      "Epoch 15/20\n",
      "96/96 [==============================] - 48s 497ms/step - loss: 0.0308 - accuracy: 0.9901 - val_loss: 0.0289 - val_accuracy: 0.9896\n",
      "Epoch 16/20\n",
      "96/96 [==============================] - 48s 498ms/step - loss: 0.0287 - accuracy: 0.9901 - val_loss: 0.0276 - val_accuracy: 0.9922\n",
      "Epoch 17/20\n",
      "96/96 [==============================] - 61s 631ms/step - loss: 0.0295 - accuracy: 0.9895 - val_loss: 0.0356 - val_accuracy: 0.9831\n",
      "Epoch 18/20\n",
      "96/96 [==============================] - 51s 527ms/step - loss: 0.0257 - accuracy: 0.9898 - val_loss: 0.0339 - val_accuracy: 0.9831\n",
      "Epoch 19/20\n",
      "96/96 [==============================] - 48s 502ms/step - loss: 0.0270 - accuracy: 0.9908 - val_loss: 0.0289 - val_accuracy: 0.9896\n",
      "Epoch 20/20\n",
      "96/96 [==============================] - 54s 567ms/step - loss: 0.0259 - accuracy: 0.9905 - val_loss: 0.0322 - val_accuracy: 0.9883\n",
      "Entrenado.\n"
     ]
    }
   ],
   "source": [
    "# se entrena el clasificador con las imagenes\n",
    "\n",
    "print('Entrenando modelo...')\n",
    "\n",
    "historico=modelo.fit(img_gen.flow(X_train, y_train, batch_size=BATCH_SIZE), \n",
    "                     steps_per_epoch=len(X_train)//BATCH_SIZE,\n",
    "                     validation_data=(X_test, y_test), \n",
    "                     validation_steps=len(X_test)//BATCH_SIZE, \n",
    "                     epochs=EPOCAS)\n",
    "\n",
    "print('Entrenado.')"
   ]
  },
  {
   "cell_type": "code",
   "execution_count": 12,
   "metadata": {},
   "outputs": [
    {
     "name": "stdout",
     "output_type": "stream",
     "text": [
      "              precision    recall  f1-score   support\n",
      "\n",
      " con_mascara       0.99      0.99      0.99       384\n",
      " sin_mascara       0.99      0.99      0.99       386\n",
      "\n",
      "    accuracy                           0.99       770\n",
      "   macro avg       0.99      0.99      0.99       770\n",
      "weighted avg       0.99      0.99      0.99       770\n",
      "\n",
      "Guardando modelo en h5...\n",
      "Guardado\n"
     ]
    }
   ],
   "source": [
    "# haciendo predicciones\n",
    "preds=modelo.predict(X_test, batch_size=BATCH_SIZE)\n",
    "\n",
    "# la mayor prob de pertenencia\n",
    "preds=np.argmax(preds, axis=1)\n",
    "\n",
    "# reporte de clasificacion\n",
    "print(report(y_test.argmax(axis=1), preds, target_names=_bin.classes_))\n",
    "\n",
    "# guardar h5\n",
    "print('Guardando modelo en h5...')\n",
    "modelo.save('detector_mascara.model', save_format='h5')\n",
    "print('Guardado')"
   ]
  },
  {
   "cell_type": "code",
   "execution_count": 19,
   "metadata": {},
   "outputs": [
    {
     "data": {
      "image/png": "[encoded data removed]",
      "text/plain": [
       "<Figure size 720x504 with 1 Axes>"
      ]
     },
     "metadata": {},
     "output_type": "display_data"
    }
   ],
   "source": [
    "# plot de perdida y acierto entrenamiento y validacion\n",
    "\n",
    "plt.style.use('ggplot')\n",
    "plt.figure(figsize=(10, 7))\n",
    "plt.plot(np.arange(0, EPOCAS), historico.history['loss'], label='train_loss')\n",
    "plt.plot(np.arange(0, EPOCAS), historico.history['val_loss'], label='val_loss')\n",
    "plt.plot(np.arange(0, EPOCAS), historico.history['accuracy'], label='train_acc')\n",
    "plt.plot(np.arange(0, EPOCAS), historico.history['val_accuracy'], label='val_acc')\n",
    "\n",
    "plt.title('Acierto y perdida')\n",
    "plt.xlabel('#Epocas')\n",
    "plt.ylabel('Perdida/Acierto')\n",
    "plt.legend(loc='best')\n",
    "plt.show();"
   ]
  },
  {
   "cell_type": "code",
   "execution_count": null,
   "metadata": {},
   "outputs": [],
   "source": []
  },
  {
   "cell_type": "code",
   "execution_count": null,
   "metadata": {},
   "outputs": [],
   "source": []
  }
 ],
 "metadata": {
  "kernelspec": {
   "display_name": "Python 3",
   "language": "python",
   "name": "python3"
  },
  "language_info": {
   "codemirror_mode": {
    "name": "ipython",
    "version": 3
   },
   "file_extension": ".py",
   "mimetype": "text/x-python",
   "name": "python",
   "nbconvert_exporter": "python",
   "pygments_lexer": "ipython3",
   "version": "3.8.2"
  }
 },
 "nbformat": 4,
 "nbformat_minor": 4
}
