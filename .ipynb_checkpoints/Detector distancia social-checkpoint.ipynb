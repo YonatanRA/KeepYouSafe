{
 "cells": [
  {
   "cell_type": "markdown",
   "metadata": {},
   "source": [
    "# Detector Distancia Social"
   ]
  },
  {
   "cell_type": "code",
   "execution_count": 1,
   "metadata": {},
   "outputs": [],
   "source": [
    "# librerias\n",
    "\n",
    "import cv2\n",
    "import time\n",
    "import imutils\n",
    "\n",
    "import numpy as np\n",
    "\n",
    "\n",
    "from math import pow, sqrt\n",
    "from imutils.video import FPS\n",
    "from imutils.video import VideoStream\n"
   ]
  },
  {
   "cell_type": "code",
   "execution_count": 2,
   "metadata": {},
   "outputs": [],
   "source": [
    "# funcion para calcular la distancia social\n",
    "\n",
    "\n",
    "def distancia_social():\n",
    "    # cargar el modelo caffe\n",
    "    modelo=cv2.dnn.readNetFromCaffe('detector/SSD_MobileNet_prototxt.txt', 'detector/SSD_MobileNet.caffemodel')\n",
    "    \n",
    "    \n",
    "    cam=VideoStream(src=0).start()\n",
    "    fps=FPS().start()\n",
    "    \n",
    "    # bucle en el video\n",
    "    while 1:\n",
    "        frame=cam.read()\n",
    "        frame=imutils.resize(frame, width=600)  # 600 pixels de pantalla\n",
    "        \n",
    "        \n",
    "        h, w=frame.shape[:2]\n",
    "        blob=cv2.dnn.blobFromImage(cv2.resize(frame, (300, 300)), .007843, (300, 300), 127.5)\n",
    "\n",
    "        modelo.setInput(blob)\n",
    "        detecciones=modelo.forward()\n",
    "        \n",
    "        \n",
    "        F=615   # hiperparametro\n",
    "        \n",
    "        pos={}\n",
    "        coordenadas={}\n",
    "\n",
    "        \n",
    "        for i in np.arange(0, detecciones.shape[2]):\n",
    "            confianza=detecciones[0, 0, i, 2]\n",
    "\n",
    "            if confianza>.5:\n",
    "                objecto=int(detecciones[0, 0, i, 1])\n",
    "                \n",
    "                if(objecto==15):\n",
    "                    caja=detecciones[0, 0, i, 3:7]*np.array([w, h, w, h])\n",
    "                    x_start, y_start, x_end, y_end=caja.astype('int')\n",
    "\n",
    "                    etiqueta='Persona: {:.2f}%'.format(confianza*100)\n",
    "                    cv2.rectangle(frame, (x_start, y_start), (x_end, y_end), (10,255,0), 2)\n",
    "                    y=y_start-15 if y_start-15>15 else y_start+15\n",
    "                    cv2.putText(frame, etiqueta, (x_start, y), cv2.FONT_HERSHEY_DUPLEX, .5, (20,255,0), 1)\n",
    "\n",
    "                    coordenadas[i]=(x_start, y_start, x_end, y_end)\n",
    "\n",
    "                    #M punto medio de la caja\n",
    "                    x_medio=round((x_start+x_end)/2, 4)\n",
    "                    y_medio=round((y_start+y_end)/2, 4)\n",
    "\n",
    "                    altura_media=round(y_end-y_start, 4)\n",
    "\n",
    "                    # distancia desde la camara basada en similitud de triangulos\n",
    "                    distancia=(F*165)/altura_media\n",
    "                    \n",
    "                    # punto medio de la caja de contorno (en cm) basada en similitud de triangulos\n",
    "                    x_medio_cm=(x_medio*distancia)/F\n",
    "                    y_medio_cm=(y_medio*distancia)/F\n",
    "                    \n",
    "                    pos[i]=(x_medio_cm, y_medio_cm, distancia)\n",
    "                    \n",
    "        proximidad=[]\n",
    "\n",
    "        # bucle por las posiciones\n",
    "        for i in pos.keys():\n",
    "            for j in pos.keys():\n",
    "                if i<j:\n",
    "                    # se calcula la distancia por Euclides\n",
    "                    dist=sqrt(pow(pos[i][0]-pos[j][0],2)+pow(pos[i][1]-pos[j][1],2)+pow(pos[i][2]-pos[j][2],2))\n",
    "\n",
    "                    # distancia umbral-175 cm\n",
    "                    if dist<175:\n",
    "                        proximidad.append(i)\n",
    "                        proximidad.append(j)\n",
    "\n",
    "                        aviso='Manten la distancia de seguridad.¡Muevete!'\n",
    "                        cv2.putText(frame, aviso, (50,50), cv2.FONT_HERSHEY_DUPLEX, .5, color, 1)\n",
    "            \n",
    "                        \n",
    "        for i in pos.keys():\n",
    "            if i in proximidad:\n",
    "                color=[0,0,255]\n",
    "            else:\n",
    "                color=[0,255,0]\n",
    "                \n",
    "            x, y, w, h=coordenadas[i]\n",
    "\n",
    "            cv2.rectangle(frame, (x, y), (w, h), color, 2)\n",
    "                            \n",
    "        cv2.imshow('Camara', frame)\n",
    "        \n",
    "        key=cv2.waitKey(1)&0xFF\n",
    "\n",
    "        if key==ord('q'):\n",
    "            cam=VideoStream(src=0).stop()\n",
    "            break\n",
    "        fps.update()\n",
    "        \n",
    "    fps.stop()\n"
   ]
  },
  {
   "cell_type": "code",
   "execution_count": 4,
   "metadata": {},
   "outputs": [
    {
     "ename": "AttributeError",
     "evalue": "'NoneType' object has no attribute 'shape'",
     "output_type": "error",
     "traceback": [
      "\u001b[0;31m---------------------------------------------------------------------------\u001b[0m",
      "\u001b[0;31mAttributeError\u001b[0m                            Traceback (most recent call last)",
      "\u001b[0;32m<ipython-input-4-541497b888d3>\u001b[0m in \u001b[0;36m<module>\u001b[0;34m\u001b[0m\n\u001b[0;32m----> 1\u001b[0;31m \u001b[0mdistancia_social\u001b[0m\u001b[0;34m(\u001b[0m\u001b[0;34m)\u001b[0m\u001b[0;34m\u001b[0m\u001b[0;34m\u001b[0m\u001b[0m\n\u001b[0m",
      "\u001b[0;32m<ipython-input-2-20d07f54d236>\u001b[0m in \u001b[0;36mdistancia_social\u001b[0;34m()\u001b[0m\n\u001b[1;32m     13\u001b[0m     \u001b[0;32mwhile\u001b[0m \u001b[0;36m1\u001b[0m\u001b[0;34m:\u001b[0m\u001b[0;34m\u001b[0m\u001b[0;34m\u001b[0m\u001b[0m\n\u001b[1;32m     14\u001b[0m         \u001b[0mframe\u001b[0m\u001b[0;34m=\u001b[0m\u001b[0mcam\u001b[0m\u001b[0;34m.\u001b[0m\u001b[0mread\u001b[0m\u001b[0;34m(\u001b[0m\u001b[0;34m)\u001b[0m\u001b[0;34m\u001b[0m\u001b[0;34m\u001b[0m\u001b[0m\n\u001b[0;32m---> 15\u001b[0;31m         \u001b[0mframe\u001b[0m\u001b[0;34m=\u001b[0m\u001b[0mimutils\u001b[0m\u001b[0;34m.\u001b[0m\u001b[0mresize\u001b[0m\u001b[0;34m(\u001b[0m\u001b[0mframe\u001b[0m\u001b[0;34m,\u001b[0m \u001b[0mwidth\u001b[0m\u001b[0;34m=\u001b[0m\u001b[0;36m600\u001b[0m\u001b[0;34m)\u001b[0m  \u001b[0;31m# 600 pixels de pantalla\u001b[0m\u001b[0;34m\u001b[0m\u001b[0;34m\u001b[0m\u001b[0m\n\u001b[0m\u001b[1;32m     16\u001b[0m \u001b[0;34m\u001b[0m\u001b[0m\n\u001b[1;32m     17\u001b[0m \u001b[0;34m\u001b[0m\u001b[0m\n",
      "\u001b[0;32m~/.local/lib/python3.8/site-packages/imutils/convenience.py\u001b[0m in \u001b[0;36mresize\u001b[0;34m(image, width, height, inter)\u001b[0m\n\u001b[1;32m     67\u001b[0m     \u001b[0;31m# grab the image size\u001b[0m\u001b[0;34m\u001b[0m\u001b[0;34m\u001b[0m\u001b[0;34m\u001b[0m\u001b[0m\n\u001b[1;32m     68\u001b[0m     \u001b[0mdim\u001b[0m \u001b[0;34m=\u001b[0m \u001b[0;32mNone\u001b[0m\u001b[0;34m\u001b[0m\u001b[0;34m\u001b[0m\u001b[0m\n\u001b[0;32m---> 69\u001b[0;31m     \u001b[0;34m(\u001b[0m\u001b[0mh\u001b[0m\u001b[0;34m,\u001b[0m \u001b[0mw\u001b[0m\u001b[0;34m)\u001b[0m \u001b[0;34m=\u001b[0m \u001b[0mimage\u001b[0m\u001b[0;34m.\u001b[0m\u001b[0mshape\u001b[0m\u001b[0;34m[\u001b[0m\u001b[0;34m:\u001b[0m\u001b[0;36m2\u001b[0m\u001b[0;34m]\u001b[0m\u001b[0;34m\u001b[0m\u001b[0;34m\u001b[0m\u001b[0m\n\u001b[0m\u001b[1;32m     70\u001b[0m \u001b[0;34m\u001b[0m\u001b[0m\n\u001b[1;32m     71\u001b[0m     \u001b[0;31m# if both the width and height are None, then return the\u001b[0m\u001b[0;34m\u001b[0m\u001b[0;34m\u001b[0m\u001b[0;34m\u001b[0m\u001b[0m\n",
      "\u001b[0;31mAttributeError\u001b[0m: 'NoneType' object has no attribute 'shape'"
     ]
    }
   ],
   "source": [
    "distancia_social()"
   ]
  },
  {
   "cell_type": "code",
   "execution_count": null,
   "metadata": {},
   "outputs": [],
   "source": []
  },
  {
   "cell_type": "code",
   "execution_count": null,
   "metadata": {},
   "outputs": [],
   "source": []
  },
  {
   "cell_type": "code",
   "execution_count": null,
   "metadata": {},
   "outputs": [],
   "source": []
  }
 ],
 "metadata": {
  "kernelspec": {
   "display_name": "Python 3",
   "language": "python",
   "name": "python3"
  },
  "language_info": {
   "codemirror_mode": {
    "name": "ipython",
    "version": 3
   },
   "file_extension": ".py",
   "mimetype": "text/x-python",
   "name": "python",
   "nbconvert_exporter": "python",
   "pygments_lexer": "ipython3",
   "version": "3.8.2"
  }
 },
 "nbformat": 4,
 "nbformat_minor": 4
}
