{
 "cells": [
  {
   "cell_type": "markdown",
   "metadata": {},
   "source": [
    "# KeepYouSafe WebApp"
   ]
  },
  {
   "cell_type": "code",
   "execution_count": null,
   "metadata": {},
   "outputs": [
    {
     "name": "stdout",
     "output_type": "stream",
     "text": [
      " * Serving Flask app \"__main__\" (lazy loading)\n",
      " * Environment: production\n",
      "   WARNING: This is a development server. Do not use it in a production deployment.\n",
      "   Use a production WSGI server instead.\n",
      " * Debug mode: off\n"
     ]
    },
    {
     "name": "stderr",
     "output_type": "stream",
     "text": [
      " * Running on http://127.0.0.1:5000/ (Press CTRL+C to quit)\n",
      "127.0.0.1 - - [24/Aug/2020 20:54:03] \"\u001b[37mGET / HTTP/1.1\u001b[0m\" 200 -\n",
      "127.0.0.1 - - [24/Aug/2020 20:54:03] \"\u001b[37mGET /video HTTP/1.1\u001b[0m\" 200 -\n",
      "127.0.0.1 - - [24/Aug/2020 20:54:13] \"\u001b[37mPOST / HTTP/1.1\u001b[0m\" 200 -\n",
      "127.0.0.1 - - [24/Aug/2020 20:54:13] \"\u001b[37mGET /video HTTP/1.1\u001b[0m\" 200 -\n",
      "127.0.0.1 - - [24/Aug/2020 20:54:17] \"\u001b[37mPOST / HTTP/1.1\u001b[0m\" 200 -\n",
      "127.0.0.1 - - [24/Aug/2020 20:54:17] \"\u001b[37mGET /video HTTP/1.1\u001b[0m\" 200 -\n",
      "127.0.0.1 - - [24/Aug/2020 20:55:05] \"\u001b[37mPOST / HTTP/1.1\u001b[0m\" 200 -\n",
      "127.0.0.1 - - [24/Aug/2020 20:55:05] \"\u001b[37mGET /video HTTP/1.1\u001b[0m\" 200 -\n",
      "127.0.0.1 - - [24/Aug/2020 20:55:12] \"\u001b[37mPOST / HTTP/1.1\u001b[0m\" 200 -\n",
      "127.0.0.1 - - [24/Aug/2020 20:55:12] \"\u001b[37mGET /video HTTP/1.1\u001b[0m\" 200 -\n"
     ]
    }
   ],
   "source": [
    "import cv2\n",
    "from imutils.video import VideoStream\n",
    "from tensorflow.keras.models import load_model\n",
    "\n",
    "from flask import Flask, render_template, Response, request\n",
    "\n",
    "from detecta import Detector\n",
    "\n",
    "\n",
    "\n",
    "\n",
    "\n",
    "# iniciaciliza la aplicacion\n",
    "app=Flask(__name__)\n",
    "\n",
    "cam=VideoStream(0).start()\n",
    "\n",
    "width=800   # pixeles imagen\n",
    "\n",
    "modo='Camara'  # modo camara\n",
    "\n",
    "modelo=cv2.dnn.readNetFromCaffe('detector/SSD_MobileNet_prototxt.txt', 'detector/SSD_MobileNet.caffemodel')\n",
    "    \n",
    "net_cara=cv2.dnn.readNet('detector/deploy.prototxt', 'detector/res10_300x300_ssd_iter_140000.caffemodel')\n",
    "\n",
    "net_mascara=load_model('detector/detector_mascara.model')\n",
    "\n",
    "detector=Detector(cam, width, modelo, net_cara, net_mascara)\n",
    "\n",
    "    \n",
    "    \n",
    "@app.route('/tomar_foto', methods=['POST'])\n",
    "def tomar_foto():\n",
    "    foto=detector.foto\n",
    "    cv2.imwrite('static/images/foto.png', foto)\n",
    "    return Response(status=200)    \n",
    "   \n",
    "    \n",
    "\n",
    "@app.route('/video')\n",
    "def video():\n",
    "    global modo\n",
    "\n",
    "    if modo=='Mascara':\n",
    "        return Response(detector.mascara(), mimetype='multipart/x-mixed-replace; boundary=frame')\n",
    "\n",
    "    elif modo=='Distancia':\n",
    "        return Response(detector.distancia(), mimetype='multipart/x-mixed-replace; boundary=frame')\n",
    "\n",
    "    else:\n",
    "        return Response(detector.camara(), mimetype='multipart/x-mixed-replace; boundary=frame')\n",
    "\n",
    "\n",
    "\n",
    "    \n",
    "@app.route('/', methods=['POST', 'GET'])\n",
    "def main():\n",
    "    if request.method=='POST':\n",
    "        global modo\n",
    "        modo=request.form['modo']\n",
    "        return render_template('index.html', modo=modo)\n",
    "    else:\n",
    "        return render_template('index.html', modo=modo)\n",
    "    \n",
    "    \n",
    "if __name__=='__main__':\n",
    "    app.run(debug=False)\n"
   ]
  },
  {
   "cell_type": "code",
   "execution_count": null,
   "metadata": {},
   "outputs": [],
   "source": []
  },
  {
   "cell_type": "code",
   "execution_count": null,
   "metadata": {},
   "outputs": [],
   "source": []
  }
 ],
 "metadata": {
  "kernelspec": {
   "display_name": "Python 3",
   "language": "python",
   "name": "python3"
  },
  "language_info": {
   "codemirror_mode": {
    "name": "ipython",
    "version": 3
   },
   "file_extension": ".py",
   "mimetype": "text/x-python",
   "name": "python",
   "nbconvert_exporter": "python",
   "pygments_lexer": "ipython3",
   "version": "3.8.2"
  }
 },
 "nbformat": 4,
 "nbformat_minor": 4
}
