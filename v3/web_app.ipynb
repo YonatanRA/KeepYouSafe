{
 "cells": [
  {
   "cell_type": "markdown",
   "metadata": {},
   "source": [
    "# KeepYouSafe WebApp"
   ]
  },
  {
   "cell_type": "code",
   "execution_count": null,
   "metadata": {},
   "outputs": [
    {
     "name": "stdout",
     "output_type": "stream",
     "text": [
      " * Serving Flask app \"__main__\" (lazy loading)\n",
      " * Environment: production\n",
      "   WARNING: This is a development server. Do not use it in a production deployment.\n",
      "   Use a production WSGI server instead.\n",
      " * Debug mode: off\n"
     ]
    },
    {
     "name": "stderr",
     "output_type": "stream",
     "text": [
      " * Running on http://127.0.0.1:5000/ (Press CTRL+C to quit)\n",
      "127.0.0.1 - - [24/Aug/2020 20:38:37] \"\u001b[37mGET / HTTP/1.1\u001b[0m\" 200 -\n",
      "127.0.0.1 - - [24/Aug/2020 20:38:37] \"\u001b[37mGET /video HTTP/1.1\u001b[0m\" 200 -\n",
      "127.0.0.1 - - [24/Aug/2020 20:38:39] \"\u001b[37mPOST /tomar_foto HTTP/1.1\u001b[0m\" 200 -\n",
      "127.0.0.1 - - [24/Aug/2020 20:38:50] \"\u001b[37mPOST / HTTP/1.1\u001b[0m\" 200 -\n",
      "127.0.0.1 - - [24/Aug/2020 20:38:50] \"\u001b[37mGET /video HTTP/1.1\u001b[0m\" 200 -\n",
      "127.0.0.1 - - [24/Aug/2020 20:38:52] \"\u001b[37mPOST /tomar_foto HTTP/1.1\u001b[0m\" 200 -\n",
      "127.0.0.1 - - [24/Aug/2020 20:39:00] \"\u001b[37mPOST / HTTP/1.1\u001b[0m\" 200 -\n",
      "127.0.0.1 - - [24/Aug/2020 20:39:00] \"\u001b[37mGET /video HTTP/1.1\u001b[0m\" 200 -\n",
      "127.0.0.1 - - [24/Aug/2020 20:39:02] \"\u001b[37mPOST /tomar_foto HTTP/1.1\u001b[0m\" 200 -\n"
     ]
    }
   ],
   "source": [
    "import cv2\n",
    "import time\n",
    "import imutils\n",
    "import os\n",
    "import numpy as np\n",
    "\n",
    "from math import pow, sqrt\n",
    "from imutils.video import FPS\n",
    "from imutils.video import VideoStream\n",
    "\n",
    "from tensorflow.keras.applications.mobilenet_v2 import preprocess_input\n",
    "from tensorflow.keras.preprocessing.image import img_to_array\n",
    "from tensorflow.keras.models import load_model\n",
    "\n",
    "from flask import Flask, render_template, Response, request\n",
    "\n",
    "from detecta import Detector\n",
    "\n",
    "\n",
    "\n",
    "# iniciaciliza la aplicacion\n",
    "app=Flask(__name__)\n",
    "\n",
    "cam=VideoStream(src=0).start()\n",
    "\n",
    "width=800   # pixeles imagen\n",
    "\n",
    "modo=''  # modo camara\n",
    "\n",
    "modelo=cv2.dnn.readNetFromCaffe('detector/SSD_MobileNet_prototxt.txt', 'detector/SSD_MobileNet.caffemodel')\n",
    "    \n",
    "net_cara=cv2.dnn.readNet('detector/deploy.prototxt', 'detector/res10_300x300_ssd_iter_140000.caffemodel')\n",
    "\n",
    "# se carga el modelo detector de mascarillas\n",
    "net_mascara=load_model('detector/detector_mascara.model')\n",
    "\n",
    "\n",
    "detector=Detector(cam, width, modelo, net_cara, net_mascara)\n",
    "\n",
    "    \n",
    "@app.route('/tomar_foto', methods=['POST'])\n",
    "def tomar_foto():\n",
    "    foto=detector.foto\n",
    "    cv2.imwrite('static/images/foto.png', foto)\n",
    "    return Response(status=200)    \n",
    "   \n",
    "    \n",
    "\n",
    "@app.route('/video')\n",
    "def video():\n",
    "    global modo\n",
    "\n",
    "    if modo=='Mascara':\n",
    "        return Response(detector.mascara(), mimetype='multipart/x-mixed-replace; boundary=frame')\n",
    "\n",
    "    elif modo=='Distancia':\n",
    "        return Response(detector.distancia(), mimetype='multipart/x-mixed-replace; boundary=frame')\n",
    "\n",
    "    else:\n",
    "        return Response(detector.camara(), mimetype='multipart/x-mixed-replace; boundary=frame')\n",
    "\n",
    "\n",
    "\n",
    "    \n",
    "@app.route('/', methods=['POST', 'GET'])\n",
    "def main():\n",
    "    if request.method=='POST':\n",
    "        global modo\n",
    "        modo=request.form['modo']\n",
    "        return render_template('index.html', modo=modo)\n",
    "    else:\n",
    "        return render_template('index.html', modo=modo)\n",
    "    \n",
    "    \n",
    "if __name__=='__main__':\n",
    "    app.run(debug=False)\n"
   ]
  },
  {
   "cell_type": "code",
   "execution_count": null,
   "metadata": {},
   "outputs": [],
   "source": []
  },
  {
   "cell_type": "code",
   "execution_count": null,
   "metadata": {},
   "outputs": [],
   "source": []
  }
 ],
 "metadata": {
  "kernelspec": {
   "display_name": "Python 3",
   "language": "python",
   "name": "python3"
  },
  "language_info": {
   "codemirror_mode": {
    "name": "ipython",
    "version": 3
   },
   "file_extension": ".py",
   "mimetype": "text/x-python",
   "name": "python",
   "nbconvert_exporter": "python",
   "pygments_lexer": "ipython3",
   "version": "3.8.2"
  }
 },
 "nbformat": 4,
 "nbformat_minor": 4
}
