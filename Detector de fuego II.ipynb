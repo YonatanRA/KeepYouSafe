{
 "cells": [
  {
   "cell_type": "markdown",
   "metadata": {},
   "source": [
    "# Detector de fuego II (testeo)\n",
    "\n",
    "\n",
    "Ahora vamos a aplicar el modelo a traves de la camara web. "
   ]
  },
  {
   "cell_type": "code",
   "execution_count": null,
   "metadata": {},
   "outputs": [],
   "source": [
    "# librerias\n",
    "\n",
    "from tensorflow.keras.applications.mobilenet_v2 import preprocess_input\n",
    "from tensorflow.keras.preprocessing.image import img_to_array\n",
    "from tensorflow.keras.models import load_model\n",
    "\n",
    "from imutils.video import VideoStream\n",
    "import numpy as np\n",
    "import imutils\n",
    "import time\n",
    "import cv2\n",
    "import os"
   ]
  },
  {
   "cell_type": "code",
   "execution_count": null,
   "metadata": {},
   "outputs": [],
   "source": [
    "# se carga el modelo detector de fuego\n",
    "net_fuego=load_model('detector/detector_fuego.model')"
   ]
  },
  {
   "cell_type": "code",
   "execution_count": null,
   "metadata": {},
   "outputs": [],
   "source": [
    "# inicializa camara web\n",
    "\n",
    "def fuego():\n",
    "\n",
    "    cam=VideoStream(src=0).start()\n",
    "    time.sleep(2.0)\n",
    "\n",
    "    # bucle sobre los frames\n",
    "    while 1:\n",
    "        # coge el frame del video y redimensiona a 400 pixels\n",
    "        frame=cam.read()\n",
    "        frame=imutils.resize(frame, width=400)\n",
    "        frame=cv2.cvtColor(frame, cv2.COLOR_BGR2RGB)\n",
    "        frame=cv2.resize(frame, (224, 224))\n",
    "        frame=img_to_array(frame)\n",
    "        frame=preprocess_input(frame)\n",
    "        \n",
    "        \n",
    "        fuego, no_fuego=net_fuego.predict(frame, batch_size=32)\n",
    "        \n",
    "        x_start, y_start, x_end, y_end=frame.shape\n",
    "        \n",
    "\n",
    "        if fuego>no_fuego:\n",
    "            etiqueta='¡¡FUEGO!!' \n",
    "            color=(255, 0, 0) \n",
    "            etiqueta='{}: {:.2f}%'.format(etiqueta, max(fuego, no_fuego)*100)\n",
    "\n",
    "            cv2.putText(frame, etiqueta, (x_start, y_start-10), cv2.FONT_HERSHEY_SIMPLEX, .45, color, 2)\n",
    "            cv2.rectangle(frame, (x_start, y_start), (x_end, y_end), color, 2)\n",
    "\n",
    "        # muestra el frame de salida\n",
    "        cv2.imshow('Camara', frame)\n",
    "        key=cv2.waitKey(1)&0xFF\n",
    "\n",
    "        # si se presiona `q`, rompe el bucle\n",
    "        if key==ord('q'):\n",
    "            break\n",
    "\n",
    "    # limpia pantalla\n",
    "    cv2.destroyAllWindows()\n",
    "    cam.stop()\n"
   ]
  },
  {
   "cell_type": "code",
   "execution_count": null,
   "metadata": {},
   "outputs": [],
   "source": [
    "fuego()"
   ]
  },
  {
   "cell_type": "code",
   "execution_count": null,
   "metadata": {},
   "outputs": [],
   "source": []
  }
 ],
 "metadata": {
  "kernelspec": {
   "display_name": "Python 3",
   "language": "python",
   "name": "python3"
  },
  "language_info": {
   "codemirror_mode": {
    "name": "ipython",
    "version": 3
   },
   "file_extension": ".py",
   "mimetype": "text/x-python",
   "name": "python",
   "nbconvert_exporter": "python",
   "pygments_lexer": "ipython3",
   "version": "3.8.2"
  }
 },
 "nbformat": 4,
 "nbformat_minor": 4
}
